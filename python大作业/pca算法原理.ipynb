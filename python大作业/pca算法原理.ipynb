{
 "cells": [
  {
   "cell_type": "markdown",
   "metadata": {},
   "source": [
    "## 方差  \n",
    "### 定义\n",
    "方差表示随机变量的离散程度，即每个可能值与平均值之间的偏离程度。\n",
    "### 公式\n",
    "Var(X) = [(X - E(X))^2] /（n-1）"
   ]
  },
  {
   "cell_type": "code",
   "execution_count": 5,
   "metadata": {},
   "outputs": [
    {
     "name": "stdout",
     "output_type": "stream",
     "text": [
      "10.0\n",
      "10.0\n"
     ]
    }
   ],
   "source": [
    "import numpy as np\n",
    "import pandas as pd\n",
    "import matplotlib.pyplot as plt\n",
    "plt.rcParams[\"font.family\"] = \"SimHei\"\n",
    "plt.rcParams[\"axes.unicode_minus\"] = False\n",
    "plt.rcParams[\"font.size\"] = 12\n",
    "\n",
    "x = np.array([1, 8, 6, 4, 10, 7])\n",
    "# 将x的均值变为0\n",
    "x = x - x.mean()\n",
    "# ddof:Delta Degrees of Freedom 用来设置方差分母的偏差数值，默认为0， 这里设置为1（为了无偏估计）\n",
    "print(np.var(x, ddof=1)) # F1\n",
    "# 这里不用对x转置\n",
    "print(np.dot(x.T, x) / (len(x)-1)) # F2"
   ]
  },
  {
   "cell_type": "markdown",
   "metadata": {},
   "source": [
    "## 协方差\n",
    "### 定义\n",
    "用来衡量两个随机变量X和Y之间的相关程度，协方差越大，则X和Y变化趋势越一致。\n",
    "说明：当协方差的俩个随机变量是同一个随机变量时，协方差等于自身的方差。\n",
    "### 计算\n",
    "协方差 = ∑(Xi - Xm) * (Yi - Ym) / (n-1) "
   ]
  },
  {
   "cell_type": "code",
   "execution_count": null,
   "metadata": {},
   "outputs": [],
   "source": []
  }
 ],
 "metadata": {
  "kernelspec": {
   "display_name": "base",
   "language": "python",
   "name": "python3"
  },
  "language_info": {
   "codemirror_mode": {
    "name": "ipython",
    "version": 3
   },
   "file_extension": ".py",
   "mimetype": "text/x-python",
   "name": "python",
   "nbconvert_exporter": "python",
   "pygments_lexer": "ipython3",
   "version": "3.11.5"
  }
 },
 "nbformat": 4,
 "nbformat_minor": 2
}
