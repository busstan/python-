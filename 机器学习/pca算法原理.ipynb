{
 "cells": [
  {
   "cell_type": "markdown",
   "metadata": {},
   "source": [
    "## 方差  \n",
    "### 定义\n",
    "方差表示随机变量的离散程度，即每个可能值与平均值之间的偏离程度。\n",
    "### 公式\n",
    "Var(X) = [(X - E(X))^2] /（n-1）"
   ]
  },
  {
   "cell_type": "code",
   "execution_count": 1,
   "metadata": {},
   "outputs": [
    {
     "name": "stdout",
     "output_type": "stream",
     "text": [
      "10.0\n",
      "10.0\n"
     ]
    }
   ],
   "source": [
    "import numpy as np\n",
    "import pandas as pd\n",
    "import matplotlib.pyplot as plt\n",
    "plt.rcParams[\"font.family\"] = \"SimHei\"\n",
    "plt.rcParams[\"axes.unicode_minus\"] = False\n",
    "plt.rcParams[\"font.size\"] = 12\n",
    "\n",
    "x = np.array([1, 8, 6, 4, 10, 7])\n",
    "# 将x的均值变为0\n",
    "x = x - x.mean()\n",
    "# ddof:Delta Degrees of Freedom 用来设置方差分母的偏差数值，默认为0， 这里设置为1（为了无偏估计）\n",
    "print(np.var(x, ddof=1)) # F1\n",
    "# 这里不用对x转置\n",
    "print(np.dot(x.T, x) / (len(x)-1)) # F2"
   ]
  },
  {
   "cell_type": "markdown",
   "metadata": {},
   "source": [
    "## 协方差\n",
    "### 定义\n",
    "用来衡量两个随机变量X和Y之间的相关程度，协方差越大，则X和Y变化趋势越一致。   \n",
    "  说明：当协方差的俩个随机变量是同一个随机变量时，协方差等于自身的方差.   \n",
    "    协方差为零，两个方程线性不相关\n",
    "### 计算\n",
    "协方差 = ∑(Xi - Xm) * (Yi - Ym) / (n-1) "
   ]
  },
  {
   "cell_type": "code",
   "execution_count": 2,
   "metadata": {},
   "outputs": [
    {
     "name": "stdout",
     "output_type": "stream",
     "text": [
      "7.0\n",
      "7.0\n"
     ]
    }
   ],
   "source": [
    "x = pd.Series([1, 2, 3, 4, 5, 6])\n",
    "y = pd.Series([2, 4, 6, 8, 10, 12])\n",
    "x = x - x.mean()\n",
    "y = y - y.mean()\n",
    "print(x.cov(y)) # pd.cov() 求协方差\n",
    "print(np.dot(x.T, y) / (len(x) - 1))"
   ]
  },
  {
   "cell_type": "markdown",
   "metadata": {},
   "source": [
    "## 协方差矩阵  \n",
    "### 定义  \n",
    "协方差矩阵用来存储多个随机变量两两之间的协方差。设随机变量X1, X2, X3......., 矩阵C的定义为：  \n",
    "$\n",
    "C=\n",
    "\\begin{bmatrix}\n",
    "c_{11}&c_{12}&...&c_{1n}\\\\\n",
    "c_{21}&c_{22}&...&c_{2n}\\\\\n",
    "...&...&...&...\\\\\n",
    "c_{n1}&c_{n2}&...&c_{nn}\\\\\n",
    "\\end{bmatrix}\n",
    "$  \n",
    "$\n",
    "c_{ij}=Cov(X_i, X_j)\n",
    "$  \n",
    "$  \n",
    "则矩阵C就是n个随机变量X_1，X_2，X_3，...,X_n的协方差矩阵\n",
    "$  \n",
    "说明：  \n",
    "协方差矩阵是对称矩阵  \n",
    "协方差矩阵主对角线上的元素为各个随机变量的方差"
   ]
  },
  {
   "cell_type": "markdown",
   "metadata": {},
   "source": [
    "C=$\\frac{1}{m-1} X^TX$\n"
   ]
  },
  {
   "cell_type": "code",
   "execution_count": 3,
   "metadata": {},
   "outputs": [
    {
     "name": "stdout",
     "output_type": "stream",
     "text": [
      "[[ 0.00668685 -0.01128197 -0.00164677]\n",
      " [-0.01128197  0.04055432  0.01622402]\n",
      " [-0.00164677  0.01622402  0.03677116]]\n",
      "[[ 0.00668685 -0.01128197 -0.00164677]\n",
      " [-0.01128197  0.04055432  0.01622402]\n",
      " [-0.00164677  0.01622402  0.03677116]]\n"
     ]
    }
   ],
   "source": [
    "np.random.seed(0)\n",
    "X = np.random.random(size=(4, 3))\n",
    "X = X - X.mean(axis=0)\n",
    "# rowvar:矩阵是否用行来表示，默认为True(是否用一行来表示一个特征)\n",
    "print(np.cov(X, rowvar=False, ddof=1))\n",
    "print(np.dot(X.T, X)/(len(X)-1))"
   ]
  },
  {
   "cell_type": "markdown",
   "metadata": {},
   "source": [
    "## 矩阵乘法的几何意义\n",
    "当矩阵A与向量$\\vec{v}$相乘时，实际上，是对$\\vec{v}$进行线性变换。  \n",
    "这里我列出常用的两种线性变换  \n",
    "1.对向量进行旋转  \n",
    "2.对向量进行缩放"
   ]
  },
  {
   "cell_type": "markdown",
   "metadata": {},
   "source": [
    "### 旋转变换"
   ]
  },
  {
   "cell_type": "code",
   "execution_count": 4,
   "metadata": {},
   "outputs": [
    {
     "name": "stdout",
     "output_type": "stream",
     "text": [
      "[1.46410162 5.46410162]\n"
     ]
    }
   ],
   "source": [
    "# 向量v与x轴的夹角为pi/4, 即45度\n",
    "v = np.array([4, 4])\n",
    "# 旋转弧度\n",
    "theta = 1 / 6 * np.pi\n",
    "A = np.array([[np.cos(theta), -np.sin(theta)],\n",
    "             [np.sin(theta), np.cos(theta)]])\n",
    "v2 = np.dot(A, v)\n",
    "print(v2)"
   ]
  },
  {
   "cell_type": "code",
   "execution_count": null,
   "metadata": {},
   "outputs": [],
   "source": [
    "def plot_point(*points):\n",
    "    for point in points:\n",
    "        plt.plot(*point)\n",
    "\n",
    "plt.figure(figsize=(5, 5))\n",
    "# 定义原点\n",
    "origin = (0, 0)\n",
    "# 绘制原点以及向量的终点，以确保向量能正常显示。\n",
    "plot_point(origin, v, v2)\n",
    "# 坐标轴等比例显示\n"
   ]
  }
 ],
 "metadata": {
  "kernelspec": {
   "display_name": "base",
   "language": "python",
   "name": "python3"
  },
  "language_info": {
   "codemirror_mode": {
    "name": "ipython",
    "version": 3
   },
   "file_extension": ".py",
   "mimetype": "text/x-python",
   "name": "python",
   "nbconvert_exporter": "python",
   "pygments_lexer": "ipython3",
   "version": "3.11.5"
  }
 },
 "nbformat": 4,
 "nbformat_minor": 2
}
